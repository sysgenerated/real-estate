{
  "nbformat": 4,
  "nbformat_minor": 0,
  "metadata": {
    "colab": {
      "name": "real-estate.ipynb",
      "provenance": [],
      "collapsed_sections": [],
      "authorship_tag": "ABX9TyOiSzlG+XjaXZxjB90zEeaY",
      "include_colab_link": true
    },
    "kernelspec": {
      "name": "python3",
      "display_name": "Python 3"
    },
    "language_info": {
      "name": "python"
    }
  },
  "cells": [
    {
      "cell_type": "markdown",
      "metadata": {
        "id": "view-in-github",
        "colab_type": "text"
      },
      "source": [
        "<a href=\"https://colab.research.google.com/github/sysgenerated/real-estate/blob/main/real_estate.ipynb\" target=\"_parent\"><img src=\"https://colab.research.google.com/assets/colab-badge.svg\" alt=\"Open In Colab\"/></a>"
      ]
    },
    {
      "cell_type": "markdown",
      "metadata": {
        "id": "1mpGIII08Lep"
      },
      "source": [
        "# Overview\n",
        "\n",
        "1. Load dataset\n",
        "  1. Data was saved to Google Drive and loaded to Google Colab\n",
        "2. Explore training dataset\n",
        "  1. Review dataset for nulls\n",
        "  2. Describe dataset and review correlation matrix\n",
        "  3. Identify predictors and target\n",
        "  4. Plot normality for each predictor\n",
        "    1. All predictors are already normalized\n",
        "3. Create train / test datesets\n",
        "  1. Upsample training dataset and compare to test set\n",
        "4. Train and validate a test model\n",
        "  1. Identify optimal threshold using F1 score\n",
        "5. Train a final model\n",
        "  1. Upsample full dataset \n",
        "  2. Use all available data to train a production model"
      ]
    },
    {
      "cell_type": "markdown",
      "metadata": {
        "id": "gZiqpsR2o1Bd"
      },
      "source": [
        "## 0. Set up compute environment\n",
        "1. Mount Google Drive\n",
        "2. Load standard libraries\n",
        "3. Create plotting functions"
      ]
    },
    {
      "cell_type": "code",
      "metadata": {
        "colab": {
          "base_uri": "https://localhost:8080/"
        },
        "id": "JnEoznSRwCtT",
        "outputId": "e33f38b2-079f-4935-8059-ee888fdc185d"
      },
      "source": [
        "# Mount Google Drive\n",
        "from google.colab import drive\n",
        "drive.mount('/content/drive')"
      ],
      "execution_count": 1,
      "outputs": [
        {
          "output_type": "stream",
          "name": "stdout",
          "text": [
            "Mounted at /content/drive\n"
          ]
        }
      ]
    },
    {
      "cell_type": "code",
      "metadata": {
        "id": "dUNJeezlt1b8"
      },
      "source": [
        "# Import standard libraries\n",
        "import pandas as pd\n",
        "import numpy as np\n",
        "import joblib\n",
        "\n",
        "# Import plotting utilities\n",
        "import matplotlib.pyplot as plt\n",
        "import seaborn as sns\n",
        "import plotnine\n",
        "from plotnine import *\n",
        "plt.style.use('seaborn-whitegrid')\n",
        "\n",
        "# Import model libraries\n",
        "from sklearn import set_config\n",
        "from sklearn.metrics import auc, f1_score, precision_recall_curve, r2_score \n",
        "from sklearn.model_selection import train_test_split, GridSearchCV\n",
        "from imblearn.over_sampling import RandomOverSampler\n",
        "from xgboost import XGBClassifier"
      ],
      "execution_count": 2,
      "outputs": []
    },
    {
      "cell_type": "code",
      "metadata": {
        "id": "_XBH3tOULCEI"
      },
      "source": [
        "# Create reusable plotting functions\n",
        "def plot_scatter_box(x, y):\n",
        "  plt.subplots(figsize=(10, 5))\n",
        "\n",
        "  plt.subplot(1, 2, 1) # row 1, column 2, item 1\n",
        "  plt.scatter(x=x, y=y)\n",
        "  plt.title('Scatterplot')\n",
        "  plt.xlabel(x.name)\n",
        "  plt.ylabel(y.name)\n",
        "  # plt.text(50, 5000, f'$R^2$ Value = {r2_score(x, y):.2%}')\n",
        "\n",
        "  plt.subplot(1, 2, 2)\n",
        "  plt.title('Boxplot')\n",
        "  pd.concat([x, y], axis=1).boxplot() \n",
        "\n",
        "  plt.tight_layout(4)\n",
        "\n",
        "  plt.show()\n",
        "\n",
        "\n",
        "def plot_frequency_histogram(x):\n",
        "  x.value_counts().plot(kind='bar')\n",
        "  plt.title(x.name)\n",
        "  plt.show()"
      ],
      "execution_count": 3,
      "outputs": []
    },
    {
      "cell_type": "markdown",
      "metadata": {
        "id": "V4T_Ug9vsL5H"
      },
      "source": [
        "## 1. Load dataset"
      ]
    },
    {
      "cell_type": "code",
      "metadata": {
        "colab": {
          "base_uri": "https://localhost:8080/",
          "height": 270
        },
        "id": "1JKT2uU9yJFg",
        "outputId": "050d27e2-8d06-4c5f-e912-8efb4f873aa8"
      },
      "source": [
        "# Import the dataset\n",
        "df = pd.read_csv('/content/drive/MyDrive/real-estate/listing_churn_data.csv')\n",
        "df.head()"
      ],
      "execution_count": 4,
      "outputs": [
        {
          "output_type": "execute_result",
          "data": {
            "text/html": [
              "\n",
              "  <div id=\"df-05117b8b-a486-48e6-88d5-fafffef3616e\">\n",
              "    <div class=\"colab-df-container\">\n",
              "      <div>\n",
              "<style scoped>\n",
              "    .dataframe tbody tr th:only-of-type {\n",
              "        vertical-align: middle;\n",
              "    }\n",
              "\n",
              "    .dataframe tbody tr th {\n",
              "        vertical-align: top;\n",
              "    }\n",
              "\n",
              "    .dataframe thead th {\n",
              "        text-align: right;\n",
              "    }\n",
              "</style>\n",
              "<table border=\"1\" class=\"dataframe\">\n",
              "  <thead>\n",
              "    <tr style=\"text-align: right;\">\n",
              "      <th></th>\n",
              "      <th>avg_interactions_with_support</th>\n",
              "      <th>owner_blocks_per_month</th>\n",
              "      <th>avg_income_last_12</th>\n",
              "      <th>avg_income_last_6</th>\n",
              "      <th>avg_review_score</th>\n",
              "      <th>number_of_reviews</th>\n",
              "      <th>bookings_per_month</th>\n",
              "      <th>weekends_booked_per_month</th>\n",
              "      <th>avg_nightly_rate</th>\n",
              "      <th>avg_length_of_stay</th>\n",
              "      <th>churn</th>\n",
              "    </tr>\n",
              "  </thead>\n",
              "  <tbody>\n",
              "    <tr>\n",
              "      <th>0</th>\n",
              "      <td>0.617163</td>\n",
              "      <td>9.577551</td>\n",
              "      <td>3814.028288</td>\n",
              "      <td>5426.263674</td>\n",
              "      <td>2.057209</td>\n",
              "      <td>15.310482</td>\n",
              "      <td>6.807388</td>\n",
              "      <td>2.000974</td>\n",
              "      <td>112.447254</td>\n",
              "      <td>2.251096</td>\n",
              "      <td>0</td>\n",
              "    </tr>\n",
              "    <tr>\n",
              "      <th>1</th>\n",
              "      <td>0.806455</td>\n",
              "      <td>8.798974</td>\n",
              "      <td>4206.420776</td>\n",
              "      <td>4655.139391</td>\n",
              "      <td>2.688184</td>\n",
              "      <td>12.099859</td>\n",
              "      <td>11.036336</td>\n",
              "      <td>1.745107</td>\n",
              "      <td>162.364418</td>\n",
              "      <td>1.963245</td>\n",
              "      <td>0</td>\n",
              "    </tr>\n",
              "    <tr>\n",
              "      <th>2</th>\n",
              "      <td>0.782139</td>\n",
              "      <td>7.734795</td>\n",
              "      <td>4552.123937</td>\n",
              "      <td>3851.009952</td>\n",
              "      <td>2.607130</td>\n",
              "      <td>12.348177</td>\n",
              "      <td>9.001582</td>\n",
              "      <td>1.961279</td>\n",
              "      <td>362.219228</td>\n",
              "      <td>2.206438</td>\n",
              "      <td>0</td>\n",
              "    </tr>\n",
              "    <tr>\n",
              "      <th>3</th>\n",
              "      <td>0.718405</td>\n",
              "      <td>8.326465</td>\n",
              "      <td>2678.914523</td>\n",
              "      <td>3593.631638</td>\n",
              "      <td>2.394683</td>\n",
              "      <td>13.332082</td>\n",
              "      <td>6.156692</td>\n",
              "      <td>2.155884</td>\n",
              "      <td>284.710399</td>\n",
              "      <td>2.425369</td>\n",
              "      <td>0</td>\n",
              "    </tr>\n",
              "    <tr>\n",
              "      <th>4</th>\n",
              "      <td>0.449931</td>\n",
              "      <td>9.654206</td>\n",
              "      <td>3152.906971</td>\n",
              "      <td>4352.544162</td>\n",
              "      <td>1.499769</td>\n",
              "      <td>17.709455</td>\n",
              "      <td>5.898279</td>\n",
              "      <td>2.715650</td>\n",
              "      <td>219.075644</td>\n",
              "      <td>3.055107</td>\n",
              "      <td>0</td>\n",
              "    </tr>\n",
              "  </tbody>\n",
              "</table>\n",
              "</div>\n",
              "      <button class=\"colab-df-convert\" onclick=\"convertToInteractive('df-05117b8b-a486-48e6-88d5-fafffef3616e')\"\n",
              "              title=\"Convert this dataframe to an interactive table.\"\n",
              "              style=\"display:none;\">\n",
              "        \n",
              "  <svg xmlns=\"http://www.w3.org/2000/svg\" height=\"24px\"viewBox=\"0 0 24 24\"\n",
              "       width=\"24px\">\n",
              "    <path d=\"M0 0h24v24H0V0z\" fill=\"none\"/>\n",
              "    <path d=\"M18.56 5.44l.94 2.06.94-2.06 2.06-.94-2.06-.94-.94-2.06-.94 2.06-2.06.94zm-11 1L8.5 8.5l.94-2.06 2.06-.94-2.06-.94L8.5 2.5l-.94 2.06-2.06.94zm10 10l.94 2.06.94-2.06 2.06-.94-2.06-.94-.94-2.06-.94 2.06-2.06.94z\"/><path d=\"M17.41 7.96l-1.37-1.37c-.4-.4-.92-.59-1.43-.59-.52 0-1.04.2-1.43.59L10.3 9.45l-7.72 7.72c-.78.78-.78 2.05 0 2.83L4 21.41c.39.39.9.59 1.41.59.51 0 1.02-.2 1.41-.59l7.78-7.78 2.81-2.81c.8-.78.8-2.07 0-2.86zM5.41 20L4 18.59l7.72-7.72 1.47 1.35L5.41 20z\"/>\n",
              "  </svg>\n",
              "      </button>\n",
              "      \n",
              "  <style>\n",
              "    .colab-df-container {\n",
              "      display:flex;\n",
              "      flex-wrap:wrap;\n",
              "      gap: 12px;\n",
              "    }\n",
              "\n",
              "    .colab-df-convert {\n",
              "      background-color: #E8F0FE;\n",
              "      border: none;\n",
              "      border-radius: 50%;\n",
              "      cursor: pointer;\n",
              "      display: none;\n",
              "      fill: #1967D2;\n",
              "      height: 32px;\n",
              "      padding: 0 0 0 0;\n",
              "      width: 32px;\n",
              "    }\n",
              "\n",
              "    .colab-df-convert:hover {\n",
              "      background-color: #E2EBFA;\n",
              "      box-shadow: 0px 1px 2px rgba(60, 64, 67, 0.3), 0px 1px 3px 1px rgba(60, 64, 67, 0.15);\n",
              "      fill: #174EA6;\n",
              "    }\n",
              "\n",
              "    [theme=dark] .colab-df-convert {\n",
              "      background-color: #3B4455;\n",
              "      fill: #D2E3FC;\n",
              "    }\n",
              "\n",
              "    [theme=dark] .colab-df-convert:hover {\n",
              "      background-color: #434B5C;\n",
              "      box-shadow: 0px 1px 3px 1px rgba(0, 0, 0, 0.15);\n",
              "      filter: drop-shadow(0px 1px 2px rgba(0, 0, 0, 0.3));\n",
              "      fill: #FFFFFF;\n",
              "    }\n",
              "  </style>\n",
              "\n",
              "      <script>\n",
              "        const buttonEl =\n",
              "          document.querySelector('#df-05117b8b-a486-48e6-88d5-fafffef3616e button.colab-df-convert');\n",
              "        buttonEl.style.display =\n",
              "          google.colab.kernel.accessAllowed ? 'block' : 'none';\n",
              "\n",
              "        async function convertToInteractive(key) {\n",
              "          const element = document.querySelector('#df-05117b8b-a486-48e6-88d5-fafffef3616e');\n",
              "          const dataTable =\n",
              "            await google.colab.kernel.invokeFunction('convertToInteractive',\n",
              "                                                     [key], {});\n",
              "          if (!dataTable) return;\n",
              "\n",
              "          const docLinkHtml = 'Like what you see? Visit the ' +\n",
              "            '<a target=\"_blank\" href=https://colab.research.google.com/notebooks/data_table.ipynb>data table notebook</a>'\n",
              "            + ' to learn more about interactive tables.';\n",
              "          element.innerHTML = '';\n",
              "          dataTable['output_type'] = 'display_data';\n",
              "          await google.colab.output.renderOutput(dataTable, element);\n",
              "          const docLink = document.createElement('div');\n",
              "          docLink.innerHTML = docLinkHtml;\n",
              "          element.appendChild(docLink);\n",
              "        }\n",
              "      </script>\n",
              "    </div>\n",
              "  </div>\n",
              "  "
            ],
            "text/plain": [
              "   avg_interactions_with_support  owner_blocks_per_month  avg_income_last_12  \\\n",
              "0                       0.617163                9.577551         3814.028288   \n",
              "1                       0.806455                8.798974         4206.420776   \n",
              "2                       0.782139                7.734795         4552.123937   \n",
              "3                       0.718405                8.326465         2678.914523   \n",
              "4                       0.449931                9.654206         3152.906971   \n",
              "\n",
              "   avg_income_last_6  avg_review_score  number_of_reviews  bookings_per_month  \\\n",
              "0        5426.263674          2.057209          15.310482            6.807388   \n",
              "1        4655.139391          2.688184          12.099859           11.036336   \n",
              "2        3851.009952          2.607130          12.348177            9.001582   \n",
              "3        3593.631638          2.394683          13.332082            6.156692   \n",
              "4        4352.544162          1.499769          17.709455            5.898279   \n",
              "\n",
              "   weekends_booked_per_month  avg_nightly_rate  avg_length_of_stay  churn  \n",
              "0                   2.000974        112.447254            2.251096      0  \n",
              "1                   1.745107        162.364418            1.963245      0  \n",
              "2                   1.961279        362.219228            2.206438      0  \n",
              "3                   2.155884        284.710399            2.425369      0  \n",
              "4                   2.715650        219.075644            3.055107      0  "
            ]
          },
          "metadata": {},
          "execution_count": 4
        }
      ]
    },
    {
      "cell_type": "markdown",
      "metadata": {
        "id": "1yco0jehDukl"
      },
      "source": [
        "## 2. Explore training dataset\n",
        "\n",
        "All features are continuous with no missing values. All predictors are positive with a lower bound of zero.\n",
        "\n",
        "Target:\n",
        "* churn: target boolean indicator, imbalanced data with less than 7% in minority class\n",
        "\n",
        "Remove features:\n",
        "* avg_interactions_with_support: remove due to perfect correlation with avg_review_score\n",
        "* weekends_booked_per_month: remove due to perfect correlation with avg_length_of_stay\n",
        "* number_of_reviews: remove due to high correlation with avg_review_score\n",
        "\n",
        "Keep features:\n",
        "* owner_blocks_per_month: highly normal predictor, uncorrelated with other predictors\n",
        "* avg_income_last_12: highly normal predictor, uncorrelated with other predictors\n",
        "* avg_income_last_6: highly normal predictor, uncorrelated with other predictors\n",
        "* avg_review_score: correlated with avg_length_of_stay but will be retained\n",
        "* bookings_per_month: highly normal predictor\n",
        "* avg_nightly_rate: highly normal predictor, uncorrelated with other predictors\n",
        "* avg_length_of_stay: \n",
        "\n"
      ]
    },
    {
      "cell_type": "code",
      "source": [
        "# Check for nulls\n",
        "df.isnull().sum()"
      ],
      "metadata": {
        "colab": {
          "base_uri": "https://localhost:8080/"
        },
        "id": "TPmHZT0zXe-5",
        "outputId": "57116a80-b1c9-45d4-adc4-66c5a4517d60"
      },
      "execution_count": 5,
      "outputs": [
        {
          "output_type": "execute_result",
          "data": {
            "text/plain": [
              "avg_interactions_with_support    0\n",
              "owner_blocks_per_month           0\n",
              "avg_income_last_12               0\n",
              "avg_income_last_6                0\n",
              "avg_review_score                 0\n",
              "number_of_reviews                0\n",
              "bookings_per_month               0\n",
              "weekends_booked_per_month        0\n",
              "avg_nightly_rate                 0\n",
              "avg_length_of_stay               0\n",
              "churn                            0\n",
              "dtype: int64"
            ]
          },
          "metadata": {},
          "execution_count": 5
        }
      ]
    },
    {
      "cell_type": "code",
      "source": [
        "# Identify summary statistics for the dataset and suppress scientific notation\n",
        "df.describe().apply(lambda s: s.apply('{0:.5f}'.format))"
      ],
      "metadata": {
        "colab": {
          "base_uri": "https://localhost:8080/",
          "height": 364
        },
        "id": "kEEsuYXYX4-n",
        "outputId": "de4fe5a5-3653-4748-9e30-19ab920b2ab6"
      },
      "execution_count": 6,
      "outputs": [
        {
          "output_type": "execute_result",
          "data": {
            "text/html": [
              "\n",
              "  <div id=\"df-b738053f-df96-422d-8877-45c50debc19e\">\n",
              "    <div class=\"colab-df-container\">\n",
              "      <div>\n",
              "<style scoped>\n",
              "    .dataframe tbody tr th:only-of-type {\n",
              "        vertical-align: middle;\n",
              "    }\n",
              "\n",
              "    .dataframe tbody tr th {\n",
              "        vertical-align: top;\n",
              "    }\n",
              "\n",
              "    .dataframe thead th {\n",
              "        text-align: right;\n",
              "    }\n",
              "</style>\n",
              "<table border=\"1\" class=\"dataframe\">\n",
              "  <thead>\n",
              "    <tr style=\"text-align: right;\">\n",
              "      <th></th>\n",
              "      <th>avg_interactions_with_support</th>\n",
              "      <th>owner_blocks_per_month</th>\n",
              "      <th>avg_income_last_12</th>\n",
              "      <th>avg_income_last_6</th>\n",
              "      <th>avg_review_score</th>\n",
              "      <th>number_of_reviews</th>\n",
              "      <th>bookings_per_month</th>\n",
              "      <th>weekends_booked_per_month</th>\n",
              "      <th>avg_nightly_rate</th>\n",
              "      <th>avg_length_of_stay</th>\n",
              "      <th>churn</th>\n",
              "    </tr>\n",
              "  </thead>\n",
              "  <tbody>\n",
              "    <tr>\n",
              "      <th>count</th>\n",
              "      <td>125000.00000</td>\n",
              "      <td>125000.00000</td>\n",
              "      <td>125000.00000</td>\n",
              "      <td>125000.00000</td>\n",
              "      <td>125000.00000</td>\n",
              "      <td>125000.00000</td>\n",
              "      <td>125000.00000</td>\n",
              "      <td>125000.00000</td>\n",
              "      <td>125000.00000</td>\n",
              "      <td>125000.00000</td>\n",
              "      <td>125000.00000</td>\n",
              "    </tr>\n",
              "    <tr>\n",
              "      <th>mean</th>\n",
              "      <td>0.67808</td>\n",
              "      <td>7.72532</td>\n",
              "      <td>3963.24005</td>\n",
              "      <td>4599.63004</td>\n",
              "      <td>2.26025</td>\n",
              "      <td>14.10674</td>\n",
              "      <td>7.87045</td>\n",
              "      <td>2.10916</td>\n",
              "      <td>242.81268</td>\n",
              "      <td>2.37281</td>\n",
              "      <td>0.06698</td>\n",
              "    </tr>\n",
              "    <tr>\n",
              "      <th>std</th>\n",
              "      <td>0.14785</td>\n",
              "      <td>1.68716</td>\n",
              "      <td>967.13986</td>\n",
              "      <td>1022.53873</td>\n",
              "      <td>0.49285</td>\n",
              "      <td>2.42651</td>\n",
              "      <td>1.69293</td>\n",
              "      <td>0.34297</td>\n",
              "      <td>48.43941</td>\n",
              "      <td>0.38584</td>\n",
              "      <td>0.24998</td>\n",
              "    </tr>\n",
              "    <tr>\n",
              "      <th>min</th>\n",
              "      <td>0.00000</td>\n",
              "      <td>0.00000</td>\n",
              "      <td>0.00000</td>\n",
              "      <td>0.00000</td>\n",
              "      <td>0.00000</td>\n",
              "      <td>0.00000</td>\n",
              "      <td>0.00000</td>\n",
              "      <td>0.00000</td>\n",
              "      <td>0.00000</td>\n",
              "      <td>0.00000</td>\n",
              "      <td>0.00000</td>\n",
              "    </tr>\n",
              "    <tr>\n",
              "      <th>25%</th>\n",
              "      <td>0.57870</td>\n",
              "      <td>6.58781</td>\n",
              "      <td>3313.67585</td>\n",
              "      <td>3908.43421</td>\n",
              "      <td>1.92900</td>\n",
              "      <td>12.54784</td>\n",
              "      <td>6.72465</td>\n",
              "      <td>1.88124</td>\n",
              "      <td>210.27862</td>\n",
              "      <td>2.11640</td>\n",
              "      <td>0.00000</td>\n",
              "    </tr>\n",
              "    <tr>\n",
              "      <th>50%</th>\n",
              "      <td>0.67555</td>\n",
              "      <td>7.73075</td>\n",
              "      <td>3964.77809</td>\n",
              "      <td>4602.62515</td>\n",
              "      <td>2.25184</td>\n",
              "      <td>14.15939</td>\n",
              "      <td>7.86845</td>\n",
              "      <td>2.11003</td>\n",
              "      <td>242.79566</td>\n",
              "      <td>2.37378</td>\n",
              "      <td>0.00000</td>\n",
              "    </tr>\n",
              "    <tr>\n",
              "      <th>75%</th>\n",
              "      <td>0.77426</td>\n",
              "      <td>8.86080</td>\n",
              "      <td>4616.41859</td>\n",
              "      <td>5286.37076</td>\n",
              "      <td>2.58087</td>\n",
              "      <td>15.73212</td>\n",
              "      <td>9.01135</td>\n",
              "      <td>2.33789</td>\n",
              "      <td>275.73686</td>\n",
              "      <td>2.63013</td>\n",
              "      <td>0.00000</td>\n",
              "    </tr>\n",
              "    <tr>\n",
              "      <th>max</th>\n",
              "      <td>1.50000</td>\n",
              "      <td>15.00000</td>\n",
              "      <td>8000.00000</td>\n",
              "      <td>9500.00000</td>\n",
              "      <td>5.00000</td>\n",
              "      <td>25.00000</td>\n",
              "      <td>15.00000</td>\n",
              "      <td>4.00000</td>\n",
              "      <td>450.00000</td>\n",
              "      <td>4.50000</td>\n",
              "      <td>1.00000</td>\n",
              "    </tr>\n",
              "  </tbody>\n",
              "</table>\n",
              "</div>\n",
              "      <button class=\"colab-df-convert\" onclick=\"convertToInteractive('df-b738053f-df96-422d-8877-45c50debc19e')\"\n",
              "              title=\"Convert this dataframe to an interactive table.\"\n",
              "              style=\"display:none;\">\n",
              "        \n",
              "  <svg xmlns=\"http://www.w3.org/2000/svg\" height=\"24px\"viewBox=\"0 0 24 24\"\n",
              "       width=\"24px\">\n",
              "    <path d=\"M0 0h24v24H0V0z\" fill=\"none\"/>\n",
              "    <path d=\"M18.56 5.44l.94 2.06.94-2.06 2.06-.94-2.06-.94-.94-2.06-.94 2.06-2.06.94zm-11 1L8.5 8.5l.94-2.06 2.06-.94-2.06-.94L8.5 2.5l-.94 2.06-2.06.94zm10 10l.94 2.06.94-2.06 2.06-.94-2.06-.94-.94-2.06-.94 2.06-2.06.94z\"/><path d=\"M17.41 7.96l-1.37-1.37c-.4-.4-.92-.59-1.43-.59-.52 0-1.04.2-1.43.59L10.3 9.45l-7.72 7.72c-.78.78-.78 2.05 0 2.83L4 21.41c.39.39.9.59 1.41.59.51 0 1.02-.2 1.41-.59l7.78-7.78 2.81-2.81c.8-.78.8-2.07 0-2.86zM5.41 20L4 18.59l7.72-7.72 1.47 1.35L5.41 20z\"/>\n",
              "  </svg>\n",
              "      </button>\n",
              "      \n",
              "  <style>\n",
              "    .colab-df-container {\n",
              "      display:flex;\n",
              "      flex-wrap:wrap;\n",
              "      gap: 12px;\n",
              "    }\n",
              "\n",
              "    .colab-df-convert {\n",
              "      background-color: #E8F0FE;\n",
              "      border: none;\n",
              "      border-radius: 50%;\n",
              "      cursor: pointer;\n",
              "      display: none;\n",
              "      fill: #1967D2;\n",
              "      height: 32px;\n",
              "      padding: 0 0 0 0;\n",
              "      width: 32px;\n",
              "    }\n",
              "\n",
              "    .colab-df-convert:hover {\n",
              "      background-color: #E2EBFA;\n",
              "      box-shadow: 0px 1px 2px rgba(60, 64, 67, 0.3), 0px 1px 3px 1px rgba(60, 64, 67, 0.15);\n",
              "      fill: #174EA6;\n",
              "    }\n",
              "\n",
              "    [theme=dark] .colab-df-convert {\n",
              "      background-color: #3B4455;\n",
              "      fill: #D2E3FC;\n",
              "    }\n",
              "\n",
              "    [theme=dark] .colab-df-convert:hover {\n",
              "      background-color: #434B5C;\n",
              "      box-shadow: 0px 1px 3px 1px rgba(0, 0, 0, 0.15);\n",
              "      filter: drop-shadow(0px 1px 2px rgba(0, 0, 0, 0.3));\n",
              "      fill: #FFFFFF;\n",
              "    }\n",
              "  </style>\n",
              "\n",
              "      <script>\n",
              "        const buttonEl =\n",
              "          document.querySelector('#df-b738053f-df96-422d-8877-45c50debc19e button.colab-df-convert');\n",
              "        buttonEl.style.display =\n",
              "          google.colab.kernel.accessAllowed ? 'block' : 'none';\n",
              "\n",
              "        async function convertToInteractive(key) {\n",
              "          const element = document.querySelector('#df-b738053f-df96-422d-8877-45c50debc19e');\n",
              "          const dataTable =\n",
              "            await google.colab.kernel.invokeFunction('convertToInteractive',\n",
              "                                                     [key], {});\n",
              "          if (!dataTable) return;\n",
              "\n",
              "          const docLinkHtml = 'Like what you see? Visit the ' +\n",
              "            '<a target=\"_blank\" href=https://colab.research.google.com/notebooks/data_table.ipynb>data table notebook</a>'\n",
              "            + ' to learn more about interactive tables.';\n",
              "          element.innerHTML = '';\n",
              "          dataTable['output_type'] = 'display_data';\n",
              "          await google.colab.output.renderOutput(dataTable, element);\n",
              "          const docLink = document.createElement('div');\n",
              "          docLink.innerHTML = docLinkHtml;\n",
              "          element.appendChild(docLink);\n",
              "        }\n",
              "      </script>\n",
              "    </div>\n",
              "  </div>\n",
              "  "
            ],
            "text/plain": [
              "      avg_interactions_with_support owner_blocks_per_month avg_income_last_12  \\\n",
              "count                  125000.00000           125000.00000       125000.00000   \n",
              "mean                        0.67808                7.72532         3963.24005   \n",
              "std                         0.14785                1.68716          967.13986   \n",
              "min                         0.00000                0.00000            0.00000   \n",
              "25%                         0.57870                6.58781         3313.67585   \n",
              "50%                         0.67555                7.73075         3964.77809   \n",
              "75%                         0.77426                8.86080         4616.41859   \n",
              "max                         1.50000               15.00000         8000.00000   \n",
              "\n",
              "      avg_income_last_6 avg_review_score number_of_reviews bookings_per_month  \\\n",
              "count      125000.00000     125000.00000      125000.00000       125000.00000   \n",
              "mean         4599.63004          2.26025          14.10674            7.87045   \n",
              "std          1022.53873          0.49285           2.42651            1.69293   \n",
              "min             0.00000          0.00000           0.00000            0.00000   \n",
              "25%          3908.43421          1.92900          12.54784            6.72465   \n",
              "50%          4602.62515          2.25184          14.15939            7.86845   \n",
              "75%          5286.37076          2.58087          15.73212            9.01135   \n",
              "max          9500.00000          5.00000          25.00000           15.00000   \n",
              "\n",
              "      weekends_booked_per_month avg_nightly_rate avg_length_of_stay  \\\n",
              "count              125000.00000     125000.00000       125000.00000   \n",
              "mean                    2.10916        242.81268            2.37281   \n",
              "std                     0.34297         48.43941            0.38584   \n",
              "min                     0.00000          0.00000            0.00000   \n",
              "25%                     1.88124        210.27862            2.11640   \n",
              "50%                     2.11003        242.79566            2.37378   \n",
              "75%                     2.33789        275.73686            2.63013   \n",
              "max                     4.00000        450.00000            4.50000   \n",
              "\n",
              "              churn  \n",
              "count  125000.00000  \n",
              "mean        0.06698  \n",
              "std         0.24998  \n",
              "min         0.00000  \n",
              "25%         0.00000  \n",
              "50%         0.00000  \n",
              "75%         0.00000  \n",
              "max         1.00000  "
            ]
          },
          "metadata": {},
          "execution_count": 6
        }
      ]
    },
    {
      "cell_type": "code",
      "metadata": {
        "colab": {
          "base_uri": "https://localhost:8080/",
          "height": 393
        },
        "id": "4cMFEpolGPor",
        "outputId": "7edd9725-21ba-4ea0-8442-4d3030e7d719"
      },
      "source": [
        "# Create a lower triangular correlation heatmap\n",
        "corr_df =  df.corr(method='pearson') \n",
        "mask_ut=np.triu(np.ones(corr_df.shape)).astype(bool)\n",
        "sns.heatmap(corr_df, mask=mask_ut, cmap=\"Spectral\");"
      ],
      "execution_count": 7,
      "outputs": [
        {
          "output_type": "display_data",
          "data": {
            "image/png": "[encoded data removed]",
            "text/plain": [
              "<Figure size 432x288 with 2 Axes>"
            ]
          },
          "metadata": {}
        }
      ]
    },
    {
      "cell_type": "code",
      "source": [
        "# Print correlations\n",
        "corr_df "
      ],
      "metadata": {
        "colab": {
          "base_uri": "https://localhost:8080/",
          "height": 458
        },
        "id": "xXuf8bz0Z4TH",
        "outputId": "e3c0409d-1e99-4d7d-bb79-a058f70a14bc"
      },
      "execution_count": 8,
      "outputs": [
        {
          "output_type": "execute_result",
          "data": {
            "text/html": [
              "\n",
              "  <div id=\"df-d0cb1ae2-71b3-4974-b644-2c29279c6338\">\n",
              "    <div class=\"colab-df-container\">\n",
              "      <div>\n",
              "<style scoped>\n",
              "    .dataframe tbody tr th:only-of-type {\n",
              "        vertical-align: middle;\n",
              "    }\n",
              "\n",
              "    .dataframe tbody tr th {\n",
              "        vertical-align: top;\n",
              "    }\n",
              "\n",
              "    .dataframe thead th {\n",
              "        text-align: right;\n",
              "    }\n",
              "</style>\n",
              "<table border=\"1\" class=\"dataframe\">\n",
              "  <thead>\n",
              "    <tr style=\"text-align: right;\">\n",
              "      <th></th>\n",
              "      <th>avg_interactions_with_support</th>\n",
              "      <th>owner_blocks_per_month</th>\n",
              "      <th>avg_income_last_12</th>\n",
              "      <th>avg_income_last_6</th>\n",
              "      <th>avg_review_score</th>\n",
              "      <th>number_of_reviews</th>\n",
              "      <th>bookings_per_month</th>\n",
              "      <th>weekends_booked_per_month</th>\n",
              "      <th>avg_nightly_rate</th>\n",
              "      <th>avg_length_of_stay</th>\n",
              "      <th>churn</th>\n",
              "    </tr>\n",
              "  </thead>\n",
              "  <tbody>\n",
              "    <tr>\n",
              "      <th>avg_interactions_with_support</th>\n",
              "      <td>1.000000</td>\n",
              "      <td>0.000494</td>\n",
              "      <td>0.002294</td>\n",
              "      <td>0.001193</td>\n",
              "      <td>1.000000</td>\n",
              "      <td>-0.997961</td>\n",
              "      <td>0.001804</td>\n",
              "      <td>-0.863509</td>\n",
              "      <td>0.002922</td>\n",
              "      <td>-0.863509</td>\n",
              "      <td>0.133712</td>\n",
              "    </tr>\n",
              "    <tr>\n",
              "      <th>owner_blocks_per_month</th>\n",
              "      <td>0.000494</td>\n",
              "      <td>1.000000</td>\n",
              "      <td>-0.001632</td>\n",
              "      <td>-0.004223</td>\n",
              "      <td>0.000494</td>\n",
              "      <td>-0.000614</td>\n",
              "      <td>0.004907</td>\n",
              "      <td>0.000531</td>\n",
              "      <td>-0.002568</td>\n",
              "      <td>0.000531</td>\n",
              "      <td>0.002609</td>\n",
              "    </tr>\n",
              "    <tr>\n",
              "      <th>avg_income_last_12</th>\n",
              "      <td>0.002294</td>\n",
              "      <td>-0.001632</td>\n",
              "      <td>1.000000</td>\n",
              "      <td>0.000273</td>\n",
              "      <td>0.002294</td>\n",
              "      <td>-0.002216</td>\n",
              "      <td>-0.002857</td>\n",
              "      <td>-0.002555</td>\n",
              "      <td>0.003089</td>\n",
              "      <td>-0.002555</td>\n",
              "      <td>0.002630</td>\n",
              "    </tr>\n",
              "    <tr>\n",
              "      <th>avg_income_last_6</th>\n",
              "      <td>0.001193</td>\n",
              "      <td>-0.004223</td>\n",
              "      <td>0.000273</td>\n",
              "      <td>1.000000</td>\n",
              "      <td>0.001193</td>\n",
              "      <td>-0.001075</td>\n",
              "      <td>-0.002638</td>\n",
              "      <td>-0.001942</td>\n",
              "      <td>0.000731</td>\n",
              "      <td>-0.001942</td>\n",
              "      <td>-0.001686</td>\n",
              "    </tr>\n",
              "    <tr>\n",
              "      <th>avg_review_score</th>\n",
              "      <td>1.000000</td>\n",
              "      <td>0.000494</td>\n",
              "      <td>0.002294</td>\n",
              "      <td>0.001193</td>\n",
              "      <td>1.000000</td>\n",
              "      <td>-0.997961</td>\n",
              "      <td>0.001804</td>\n",
              "      <td>-0.863509</td>\n",
              "      <td>0.002922</td>\n",
              "      <td>-0.863509</td>\n",
              "      <td>0.133712</td>\n",
              "    </tr>\n",
              "    <tr>\n",
              "      <th>number_of_reviews</th>\n",
              "      <td>-0.997961</td>\n",
              "      <td>-0.000614</td>\n",
              "      <td>-0.002216</td>\n",
              "      <td>-0.001075</td>\n",
              "      <td>-0.997961</td>\n",
              "      <td>1.000000</td>\n",
              "      <td>-0.002121</td>\n",
              "      <td>0.829561</td>\n",
              "      <td>-0.002984</td>\n",
              "      <td>0.829561</td>\n",
              "      <td>-0.147947</td>\n",
              "    </tr>\n",
              "    <tr>\n",
              "      <th>bookings_per_month</th>\n",
              "      <td>0.001804</td>\n",
              "      <td>0.004907</td>\n",
              "      <td>-0.002857</td>\n",
              "      <td>-0.002638</td>\n",
              "      <td>0.001804</td>\n",
              "      <td>-0.002121</td>\n",
              "      <td>1.000000</td>\n",
              "      <td>0.000973</td>\n",
              "      <td>0.003733</td>\n",
              "      <td>0.000973</td>\n",
              "      <td>0.001804</td>\n",
              "    </tr>\n",
              "    <tr>\n",
              "      <th>weekends_booked_per_month</th>\n",
              "      <td>-0.863509</td>\n",
              "      <td>0.000531</td>\n",
              "      <td>-0.002555</td>\n",
              "      <td>-0.001942</td>\n",
              "      <td>-0.863509</td>\n",
              "      <td>0.829561</td>\n",
              "      <td>0.000973</td>\n",
              "      <td>1.000000</td>\n",
              "      <td>-0.001984</td>\n",
              "      <td>1.000000</td>\n",
              "      <td>-0.000822</td>\n",
              "    </tr>\n",
              "    <tr>\n",
              "      <th>avg_nightly_rate</th>\n",
              "      <td>0.002922</td>\n",
              "      <td>-0.002568</td>\n",
              "      <td>0.003089</td>\n",
              "      <td>0.000731</td>\n",
              "      <td>0.002922</td>\n",
              "      <td>-0.002984</td>\n",
              "      <td>0.003733</td>\n",
              "      <td>-0.001984</td>\n",
              "      <td>1.000000</td>\n",
              "      <td>-0.001984</td>\n",
              "      <td>0.003209</td>\n",
              "    </tr>\n",
              "    <tr>\n",
              "      <th>avg_length_of_stay</th>\n",
              "      <td>-0.863509</td>\n",
              "      <td>0.000531</td>\n",
              "      <td>-0.002555</td>\n",
              "      <td>-0.001942</td>\n",
              "      <td>-0.863509</td>\n",
              "      <td>0.829561</td>\n",
              "      <td>0.000973</td>\n",
              "      <td>1.000000</td>\n",
              "      <td>-0.001984</td>\n",
              "      <td>1.000000</td>\n",
              "      <td>-0.000822</td>\n",
              "    </tr>\n",
              "    <tr>\n",
              "      <th>churn</th>\n",
              "      <td>0.133712</td>\n",
              "      <td>0.002609</td>\n",
              "      <td>0.002630</td>\n",
              "      <td>-0.001686</td>\n",
              "      <td>0.133712</td>\n",
              "      <td>-0.147947</td>\n",
              "      <td>0.001804</td>\n",
              "      <td>-0.000822</td>\n",
              "      <td>0.003209</td>\n",
              "      <td>-0.000822</td>\n",
              "      <td>1.000000</td>\n",
              "    </tr>\n",
              "  </tbody>\n",
              "</table>\n",
              "</div>\n",
              "      <button class=\"colab-df-convert\" onclick=\"convertToInteractive('df-d0cb1ae2-71b3-4974-b644-2c29279c6338')\"\n",
              "              title=\"Convert this dataframe to an interactive table.\"\n",
              "              style=\"display:none;\">\n",
              "        \n",
              "  <svg xmlns=\"http://www.w3.org/2000/svg\" height=\"24px\"viewBox=\"0 0 24 24\"\n",
              "       width=\"24px\">\n",
              "    <path d=\"M0 0h24v24H0V0z\" fill=\"none\"/>\n",
              "    <path d=\"M18.56 5.44l.94 2.06.94-2.06 2.06-.94-2.06-.94-.94-2.06-.94 2.06-2.06.94zm-11 1L8.5 8.5l.94-2.06 2.06-.94-2.06-.94L8.5 2.5l-.94 2.06-2.06.94zm10 10l.94 2.06.94-2.06 2.06-.94-2.06-.94-.94-2.06-.94 2.06-2.06.94z\"/><path d=\"M17.41 7.96l-1.37-1.37c-.4-.4-.92-.59-1.43-.59-.52 0-1.04.2-1.43.59L10.3 9.45l-7.72 7.72c-.78.78-.78 2.05 0 2.83L4 21.41c.39.39.9.59 1.41.59.51 0 1.02-.2 1.41-.59l7.78-7.78 2.81-2.81c.8-.78.8-2.07 0-2.86zM5.41 20L4 18.59l7.72-7.72 1.47 1.35L5.41 20z\"/>\n",
              "  </svg>\n",
              "      </button>\n",
              "      \n",
              "  <style>\n",
              "    .colab-df-container {\n",
              "      display:flex;\n",
              "      flex-wrap:wrap;\n",
              "      gap: 12px;\n",
              "    }\n",
              "\n",
              "    .colab-df-convert {\n",
              "      background-color: #E8F0FE;\n",
              "      border: none;\n",
              "      border-radius: 50%;\n",
              "      cursor: pointer;\n",
              "      display: none;\n",
              "      fill: #1967D2;\n",
              "      height: 32px;\n",
              "      padding: 0 0 0 0;\n",
              "      width: 32px;\n",
              "    }\n",
              "\n",
              "    .colab-df-convert:hover {\n",
              "      background-color: #E2EBFA;\n",
              "      box-shadow: 0px 1px 2px rgba(60, 64, 67, 0.3), 0px 1px 3px 1px rgba(60, 64, 67, 0.15);\n",
              "      fill: #174EA6;\n",
              "    }\n",
              "\n",
              "    [theme=dark] .colab-df-convert {\n",
              "      background-color: #3B4455;\n",
              "      fill: #D2E3FC;\n",
              "    }\n",
              "\n",
              "    [theme=dark] .colab-df-convert:hover {\n",
              "      background-color: #434B5C;\n",
              "      box-shadow: 0px 1px 3px 1px rgba(0, 0, 0, 0.15);\n",
              "      filter: drop-shadow(0px 1px 2px rgba(0, 0, 0, 0.3));\n",
              "      fill: #FFFFFF;\n",
              "    }\n",
              "  </style>\n",
              "\n",
              "      <script>\n",
              "        const buttonEl =\n",
              "          document.querySelector('#df-d0cb1ae2-71b3-4974-b644-2c29279c6338 button.colab-df-convert');\n",
              "        buttonEl.style.display =\n",
              "          google.colab.kernel.accessAllowed ? 'block' : 'none';\n",
              "\n",
              "        async function convertToInteractive(key) {\n",
              "          const element = document.querySelector('#df-d0cb1ae2-71b3-4974-b644-2c29279c6338');\n",
              "          const dataTable =\n",
              "            await google.colab.kernel.invokeFunction('convertToInteractive',\n",
              "                                                     [key], {});\n",
              "          if (!dataTable) return;\n",
              "\n",
              "          const docLinkHtml = 'Like what you see? Visit the ' +\n",
              "            '<a target=\"_blank\" href=https://colab.research.google.com/notebooks/data_table.ipynb>data table notebook</a>'\n",
              "            + ' to learn more about interactive tables.';\n",
              "          element.innerHTML = '';\n",
              "          dataTable['output_type'] = 'display_data';\n",
              "          await google.colab.output.renderOutput(dataTable, element);\n",
              "          const docLink = document.createElement('div');\n",
              "          docLink.innerHTML = docLinkHtml;\n",
              "          element.appendChild(docLink);\n",
              "        }\n",
              "      </script>\n",
              "    </div>\n",
              "  </div>\n",
              "  "
            ],
            "text/plain": [
              "                               avg_interactions_with_support  \\\n",
              "avg_interactions_with_support                       1.000000   \n",
              "owner_blocks_per_month                              0.000494   \n",
              "avg_income_last_12                                  0.002294   \n",
              "avg_income_last_6                                   0.001193   \n",
              "avg_review_score                                    1.000000   \n",
              "number_of_reviews                                  -0.997961   \n",
              "bookings_per_month                                  0.001804   \n",
              "weekends_booked_per_month                          -0.863509   \n",
              "avg_nightly_rate                                    0.002922   \n",
              "avg_length_of_stay                                 -0.863509   \n",
              "churn                                               0.133712   \n",
              "\n",
              "                               owner_blocks_per_month  avg_income_last_12  \\\n",
              "avg_interactions_with_support                0.000494            0.002294   \n",
              "owner_blocks_per_month                       1.000000           -0.001632   \n",
              "avg_income_last_12                          -0.001632            1.000000   \n",
              "avg_income_last_6                           -0.004223            0.000273   \n",
              "avg_review_score                             0.000494            0.002294   \n",
              "number_of_reviews                           -0.000614           -0.002216   \n",
              "bookings_per_month                           0.004907           -0.002857   \n",
              "weekends_booked_per_month                    0.000531           -0.002555   \n",
              "avg_nightly_rate                            -0.002568            0.003089   \n",
              "avg_length_of_stay                           0.000531           -0.002555   \n",
              "churn                                        0.002609            0.002630   \n",
              "\n",
              "                               avg_income_last_6  avg_review_score  \\\n",
              "avg_interactions_with_support           0.001193          1.000000   \n",
              "owner_blocks_per_month                 -0.004223          0.000494   \n",
              "avg_income_last_12                      0.000273          0.002294   \n",
              "avg_income_last_6                       1.000000          0.001193   \n",
              "avg_review_score                        0.001193          1.000000   \n",
              "number_of_reviews                      -0.001075         -0.997961   \n",
              "bookings_per_month                     -0.002638          0.001804   \n",
              "weekends_booked_per_month              -0.001942         -0.863509   \n",
              "avg_nightly_rate                        0.000731          0.002922   \n",
              "avg_length_of_stay                     -0.001942         -0.863509   \n",
              "churn                                  -0.001686          0.133712   \n",
              "\n",
              "                               number_of_reviews  bookings_per_month  \\\n",
              "avg_interactions_with_support          -0.997961            0.001804   \n",
              "owner_blocks_per_month                 -0.000614            0.004907   \n",
              "avg_income_last_12                     -0.002216           -0.002857   \n",
              "avg_income_last_6                      -0.001075           -0.002638   \n",
              "avg_review_score                       -0.997961            0.001804   \n",
              "number_of_reviews                       1.000000           -0.002121   \n",
              "bookings_per_month                     -0.002121            1.000000   \n",
              "weekends_booked_per_month               0.829561            0.000973   \n",
              "avg_nightly_rate                       -0.002984            0.003733   \n",
              "avg_length_of_stay                      0.829561            0.000973   \n",
              "churn                                  -0.147947            0.001804   \n",
              "\n",
              "                               weekends_booked_per_month  avg_nightly_rate  \\\n",
              "avg_interactions_with_support                  -0.863509          0.002922   \n",
              "owner_blocks_per_month                          0.000531         -0.002568   \n",
              "avg_income_last_12                             -0.002555          0.003089   \n",
              "avg_income_last_6                              -0.001942          0.000731   \n",
              "avg_review_score                               -0.863509          0.002922   \n",
              "number_of_reviews                               0.829561         -0.002984   \n",
              "bookings_per_month                              0.000973          0.003733   \n",
              "weekends_booked_per_month                       1.000000         -0.001984   \n",
              "avg_nightly_rate                               -0.001984          1.000000   \n",
              "avg_length_of_stay                              1.000000         -0.001984   \n",
              "churn                                          -0.000822          0.003209   \n",
              "\n",
              "                               avg_length_of_stay     churn  \n",
              "avg_interactions_with_support           -0.863509  0.133712  \n",
              "owner_blocks_per_month                   0.000531  0.002609  \n",
              "avg_income_last_12                      -0.002555  0.002630  \n",
              "avg_income_last_6                       -0.001942 -0.001686  \n",
              "avg_review_score                        -0.863509  0.133712  \n",
              "number_of_reviews                        0.829561 -0.147947  \n",
              "bookings_per_month                       0.000973  0.001804  \n",
              "weekends_booked_per_month                1.000000 -0.000822  \n",
              "avg_nightly_rate                        -0.001984  0.003209  \n",
              "avg_length_of_stay                       1.000000 -0.000822  \n",
              "churn                                   -0.000822  1.000000  "
            ]
          },
          "metadata": {},
          "execution_count": 8
        }
      ]
    },
    {
      "cell_type": "code",
      "metadata": {
        "colab": {
          "base_uri": "https://localhost:8080/",
          "height": 311
        },
        "id": "8U4Uq-78JsoY",
        "outputId": "2b1892c0-cd50-4d4c-ae42-0c09152eb4a2"
      },
      "source": [
        "# Compare perfectly correlated features\n",
        "plot_scatter_box(x=df['avg_interactions_with_support'], y=df['avg_review_score'])"
      ],
      "execution_count": 9,
      "outputs": [
        {
          "output_type": "display_data",
          "data": {
            "image/png": "[encoded data removed]",
            "text/plain": [
              "<Figure size 720x360 with 2 Axes>"
            ]
          },
          "metadata": {}
        }
      ]
    },
    {
      "cell_type": "code",
      "source": [
        "# Compare perfectly correlated features\n",
        "plot_scatter_box(x=df['weekends_booked_per_month'], y=df['avg_length_of_stay'])"
      ],
      "metadata": {
        "colab": {
          "base_uri": "https://localhost:8080/",
          "height": 311
        },
        "id": "mk_Dh0gnovdP",
        "outputId": "77b3fba4-5757-4d80-b495-34ac0a0ade0d"
      },
      "execution_count": 10,
      "outputs": [
        {
          "output_type": "display_data",
          "data": {
            "image/png": "[encoded data removed]",
            "text/plain": [
              "<Figure size 720x360 with 2 Axes>"
            ]
          },
          "metadata": {}
        }
      ]
    },
    {
      "cell_type": "code",
      "source": [
        "# Identify predictors and target if train/test is used\n",
        "predictors = ['owner_blocks_per_month', 'avg_income_last_12', 'avg_income_last_6', 'avg_review_score',\n",
        "              'bookings_per_month', 'avg_nightly_rate', 'avg_length_of_stay']\n",
        "\n",
        "target = 'churn'"
      ],
      "metadata": {
        "id": "-VuXNNLjV7N5"
      },
      "execution_count": 11,
      "outputs": []
    },
    {
      "cell_type": "code",
      "source": [
        "# Create a lower triangular correlation heatmap after removing perfectly correlated predictors\n",
        "corr_df =  df[predictors].corr(method='pearson') \n",
        "mask_ut=np.triu(np.ones(corr_df.shape)).astype(bool)\n",
        "sns.heatmap(corr_df, mask=mask_ut, cmap=\"Spectral\");"
      ],
      "metadata": {
        "colab": {
          "base_uri": "https://localhost:8080/",
          "height": 369
        },
        "id": "lJrf7i2VhL9E",
        "outputId": "ee45c4fd-93ef-4f67-a2fa-8521093a75a2"
      },
      "execution_count": 12,
      "outputs": [
        {
          "output_type": "display_data",
          "data": {
            "image/png": "[encoded data removed]",
            "text/plain": [
              "<Figure size 432x288 with 2 Axes>"
            ]
          },
          "metadata": {}
        }
      ]
    },
    {
      "cell_type": "code",
      "metadata": {
        "colab": {
          "base_uri": "https://localhost:8080/",
          "height": 277
        },
        "id": "zNinOmb42W1k",
        "outputId": "a1bb898d-b3fa-440d-a888-a4659377b314"
      },
      "source": [
        "# Histogram of remaining predictors\n",
        "df[predictors].hist(bins=100);"
      ],
      "execution_count": 13,
      "outputs": [
        {
          "output_type": "display_data",
          "data": {
            "image/png": "[encoded data removed]",
            "text/plain": [
              "<Figure size 432x288 with 9 Axes>"
            ]
          },
          "metadata": {}
        }
      ]
    },
    {
      "cell_type": "markdown",
      "source": [
        "## 3. Prepare train / test data\n",
        "\n",
        "1. Create train / test data\n",
        "2. Upsample minority class in training set"
      ],
      "metadata": {
        "id": "Z_NQZcBdrtZI"
      }
    },
    {
      "cell_type": "code",
      "source": [
        "# Extract target and predictors into full dataset\n",
        "X_full = df[predictors]\n",
        "y_full = df[target]\n",
        "\n",
        "# Create train / test splits stratified by the target\n",
        "X_train, X_test, y_train, y_test = train_test_split(X_full, y_full, test_size=0.2, random_state=0, stratify=y_full)\n",
        "\n",
        "# Upsample the minority class for training\n",
        "ros = RandomOverSampler(random_state=0)\n",
        "X_train, y_train = ros.fit_resample(X_train, y_train)"
      ],
      "metadata": {
        "id": "9rTGf3ImsQTm"
      },
      "execution_count": 14,
      "outputs": []
    },
    {
      "cell_type": "markdown",
      "metadata": {
        "id": "7g3eLPicvZRn"
      },
      "source": [
        "## 4. Train / Validate a model\n",
        "\n",
        "Train on upsampled data and then use a test set to calculate the optimal threshold."
      ]
    },
    {
      "cell_type": "code",
      "source": [
        "# Use XGB as a standard model\n",
        "model = XGBClassifier(n_estimators=900, learning_rate=0.2, max_depth=9)\n",
        "\n",
        "# param_grid = {\n",
        "#     'n_estimators': [300, 500, 700, 900],\n",
        "#     'learning_rate': [0.05, 0.1, 0.2],\n",
        "#     'max_depth': [5, 7, 9],\n",
        "#     'subsample': [0.4, 0.5, 1.0]}\n",
        "\n",
        "# model = GridSearchCV(model, param_grid, n_jobs=-1)\n",
        "# model.fit(X_train, y_train)\n",
        "# print(model.best_params_)\n",
        "\n",
        "model.fit(X_train, y_train)"
      ],
      "metadata": {
        "id": "oIf491-qsAD8",
        "colab": {
          "base_uri": "https://localhost:8080/"
        },
        "outputId": "a6129041-2a86-4ca5-a277-fec4ee33b219"
      },
      "execution_count": 15,
      "outputs": [
        {
          "output_type": "execute_result",
          "data": {
            "text/plain": [
              "XGBClassifier(learning_rate=0.2, max_depth=9, n_estimators=900)"
            ]
          },
          "metadata": {},
          "execution_count": 15
        }
      ]
    },
    {
      "cell_type": "code",
      "source": [
        "# Create predictions\n",
        "y_pred = model.predict_proba(X_test)[:,1]\n",
        "\n",
        "# Calculate precision and recall\n",
        "precision, recall, thresholds = precision_recall_curve(y_test, y_pred)\n",
        "\n",
        "# Create precision recall dataframe\n",
        "df_recall_precision = pd.DataFrame({'Precision':precision[:-1],\n",
        "                                    'Recall':recall[:-1],\n",
        "                                    'Threshold':thresholds})\n",
        "\n",
        "# Calculate the f-score\n",
        "fscore = (2 * precision * recall) / (precision + recall)\n",
        "\n",
        "\n",
        "\n",
        "### This code reused from https://towardsdatascience.com/optimal-threshold-for-imbalanced-classification-5884e870c293\n",
        "\n",
        "# Find the optimal threshold\n",
        "index = np.argmax(fscore)\n",
        "thresholdOpt = round(thresholds[index], ndigits = 4)\n",
        "fscoreOpt = round(fscore[index], ndigits = 4)\n",
        "recallOpt = round(recall[index], ndigits = 4)\n",
        "precisionOpt = round(precision[index], ndigits = 4)\n",
        "print('Best Threshold: {} with F-Score: {}'.format(thresholdOpt, fscoreOpt))\n",
        "print('Recall: {}, Precision: {}'.format(recallOpt, precisionOpt))\n",
        "\n",
        "# Graph \n",
        "plotnine.options.figure_size = (8, 4.8)\n",
        "(\n",
        "    ggplot(data = df_recall_precision)+\n",
        "    geom_point(aes(x = 'Recall',\n",
        "                   y = 'Precision'),\n",
        "               size = 0.4)+\n",
        "    # Best threshold\n",
        "    geom_point(aes(x = recallOpt,\n",
        "                   y = precisionOpt),\n",
        "               color = '#981220',\n",
        "               size = 4)+\n",
        "    geom_line(aes(x = 'Recall',\n",
        "                  y = 'Precision'))+\n",
        "    # Annotate the text\n",
        "    geom_text(aes(x = recallOpt,\n",
        "                  y = precisionOpt),\n",
        "              label = 'Optimal threshold \\n for class: {}'.format(thresholdOpt),\n",
        "              nudge_x = 0.18,\n",
        "              nudge_y = 0,\n",
        "              size = 10,\n",
        "              fontstyle = 'italic')+\n",
        "    labs(title = 'Recall Precision Curve')+\n",
        "    xlab('Recall')+\n",
        "    ylab('Precision')+\n",
        "    theme_minimal()\n",
        ")"
      ],
      "metadata": {
        "colab": {
          "base_uri": "https://localhost:8080/",
          "height": 541
        },
        "id": "DEcqboolji8H",
        "outputId": "f1027293-51de-4df1-d574-af1b563af22c"
      },
      "execution_count": 16,
      "outputs": [
        {
          "output_type": "stream",
          "name": "stdout",
          "text": [
            "Best Threshold: 0.5378999710083008 with F-Score: 0.3367\n",
            "Recall: 0.218, Precision: 0.7389\n"
          ]
        },
        {
          "output_type": "display_data",
          "data": {
            "image/png": "[encoded data removed]",
            "text/plain": [
              "<Figure size 800x480 with 1 Axes>"
            ]
          },
          "metadata": {
            "needs_background": "light"
          }
        },
        {
          "output_type": "execute_result",
          "data": {
            "text/plain": [
              "<ggplot: (8791841291657)>"
            ]
          },
          "metadata": {},
          "execution_count": 16
        }
      ]
    },
    {
      "cell_type": "markdown",
      "source": [
        "## 5. Train a final model"
      ],
      "metadata": {
        "id": "yAfCSFrsw4Qw"
      }
    },
    {
      "cell_type": "code",
      "source": [
        "# For the final model upsample the full dataset\n",
        "X_final, y_final = ros.fit_resample(X_full, y_full)\n",
        "\n",
        "# Train a model using the full dataset and best parameters\n",
        "model = XGBClassifier()\n",
        "model.fit(X_final, y_final)\n",
        "joblib.dump(model, 'model_20220308.joblib')"
      ],
      "metadata": {
        "colab": {
          "base_uri": "https://localhost:8080/"
        },
        "id": "H6Tv-DJrw7UY",
        "outputId": "82e4c01a-d126-4bab-84ae-169f7005cac0"
      },
      "execution_count": 17,
      "outputs": [
        {
          "output_type": "execute_result",
          "data": {
            "text/plain": [
              "['model_20220308.joblib']"
            ]
          },
          "metadata": {},
          "execution_count": 17
        }
      ]
    }
  ]
}